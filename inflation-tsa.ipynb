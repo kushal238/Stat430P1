{
 "cells": [
  {
   "cell_type": "code",
   "execution_count": 1,
   "metadata": {},
   "outputs": [],
   "source": [
    "import pandas as pd"
   ]
  },
  {
   "cell_type": "code",
   "execution_count": 24,
   "metadata": {},
   "outputs": [
    {
     "data": {
      "text/html": [
       "<div>\n",
       "<style scoped>\n",
       "    .dataframe tbody tr th:only-of-type {\n",
       "        vertical-align: middle;\n",
       "    }\n",
       "\n",
       "    .dataframe tbody tr th {\n",
       "        vertical-align: top;\n",
       "    }\n",
       "\n",
       "    .dataframe thead th {\n",
       "        text-align: right;\n",
       "    }\n",
       "</style>\n",
       "<table border=\"1\" class=\"dataframe\">\n",
       "  <thead>\n",
       "    <tr style=\"text-align: right;\">\n",
       "      <th></th>\n",
       "      <th>CPIAUCSL</th>\n",
       "      <th>inflation_rate</th>\n",
       "    </tr>\n",
       "    <tr>\n",
       "      <th>observation_date</th>\n",
       "      <th></th>\n",
       "      <th></th>\n",
       "    </tr>\n",
       "  </thead>\n",
       "  <tbody>\n",
       "    <tr>\n",
       "      <th>2017-12-31</th>\n",
       "      <td>247.805</td>\n",
       "      <td>2.129931</td>\n",
       "    </tr>\n",
       "    <tr>\n",
       "      <th>2018-12-31</th>\n",
       "      <td>252.767</td>\n",
       "      <td>2.002381</td>\n",
       "    </tr>\n",
       "    <tr>\n",
       "      <th>2019-12-31</th>\n",
       "      <td>258.630</td>\n",
       "      <td>2.319527</td>\n",
       "    </tr>\n",
       "    <tr>\n",
       "      <th>2020-12-31</th>\n",
       "      <td>262.005</td>\n",
       "      <td>1.304953</td>\n",
       "    </tr>\n",
       "    <tr>\n",
       "      <th>2021-12-31</th>\n",
       "      <td>280.808</td>\n",
       "      <td>7.176581</td>\n",
       "    </tr>\n",
       "    <tr>\n",
       "      <th>2022-12-31</th>\n",
       "      <td>298.812</td>\n",
       "      <td>6.411498</td>\n",
       "    </tr>\n",
       "    <tr>\n",
       "      <th>2023-12-31</th>\n",
       "      <td>308.742</td>\n",
       "      <td>3.323160</td>\n",
       "    </tr>\n",
       "    <tr>\n",
       "      <th>2024-12-31</th>\n",
       "      <td>317.685</td>\n",
       "      <td>2.896593</td>\n",
       "    </tr>\n",
       "  </tbody>\n",
       "</table>\n",
       "</div>"
      ],
      "text/plain": [
       "                  CPIAUCSL  inflation_rate\n",
       "observation_date                          \n",
       "2017-12-31         247.805        2.129931\n",
       "2018-12-31         252.767        2.002381\n",
       "2019-12-31         258.630        2.319527\n",
       "2020-12-31         262.005        1.304953\n",
       "2021-12-31         280.808        7.176581\n",
       "2022-12-31         298.812        6.411498\n",
       "2023-12-31         308.742        3.323160\n",
       "2024-12-31         317.685        2.896593"
      ]
     },
     "execution_count": 24,
     "metadata": {},
     "output_type": "execute_result"
    }
   ],
   "source": [
    "df = pd.read_csv('~/Desktop/CPIAUCSL.csv', parse_dates=['observation_date'])\n",
    "\n",
    "\n",
    "df.set_index('observation_date', inplace=True)\n",
    "\n",
    "\n",
    "yearly_df = df.resample('A').last() \n",
    "\n",
    "\n",
    "# (CPI_current_year / CPI_previous_year - 1) * 100\n",
    "yearly_df['inflation_rate'] = yearly_df['CPIAUCSL'].pct_change() * 100\n",
    "\n",
    "\n",
    "yearly_df[70:78]\n",
    "\n"
   ]
  }
 ],
 "metadata": {
  "kernelspec": {
   "display_name": "Python (gnn_molecule_env)",
   "language": "python",
   "name": "gnn_molecule_env"
  },
  "language_info": {
   "codemirror_mode": {
    "name": "ipython",
    "version": 3
   },
   "file_extension": ".py",
   "mimetype": "text/x-python",
   "name": "python",
   "nbconvert_exporter": "python",
   "pygments_lexer": "ipython3",
   "version": "3.8.19"
  }
 },
 "nbformat": 4,
 "nbformat_minor": 2
}
